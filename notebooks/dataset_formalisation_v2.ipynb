{
 "cells": [
  {
   "cell_type": "code",
   "execution_count": 4,
   "metadata": {},
   "outputs": [],
   "source": [
    "import pandas as pd\n",
    "from pandas import DataFrame as df\n",
    "import numpy as np\n",
    "import ta"
   ]
  },
  {
   "cell_type": "code",
   "execution_count": 5,
   "metadata": {},
   "outputs": [
    {
     "name": "stdout",
     "output_type": "stream",
     "text": [
      "        date   open   high    low  close    volume\n",
      "0  6/15/2011  20.00  26.00  17.35  17.42  42152400\n",
      "1  6/16/2011  16.99  16.99  12.99  13.26  15300400\n",
      "2  6/17/2011  13.00  13.60  12.16  13.40   4813900\n",
      "3  6/20/2011  13.36  15.39  13.27  14.61   3073000\n",
      "4  6/21/2011  15.22  15.35  13.27  13.50   3316100\n"
     ]
    }
   ],
   "source": [
    "file_path = \"C:/Users/limxu/OneDrive/Documents/UCB/SAAS/Project/data/stock_data_basic.csv\"\n",
    "stock_df = pd.read_csv(file_path)\n",
    "print(stock_df.head())"
   ]
  },
  {
   "cell_type": "code",
   "execution_count": 6,
   "metadata": {},
   "outputs": [
    {
     "data": {
      "text/plain": [
       "date      datetime64[ns]\n",
       "open             float64\n",
       "high             float64\n",
       "low              float64\n",
       "close            float64\n",
       "volume             int64\n",
       "dtype: object"
      ]
     },
     "execution_count": 6,
     "metadata": {},
     "output_type": "execute_result"
    }
   ],
   "source": [
    "#check for missing data\n",
    "stock_df.isna().sum()\n",
    "\n",
    "#ensuring correct data_type\n",
    "stock_df['date']=pd.to_datetime(stock_df['date'], format=\"%m/%d/%Y\")\n",
    "stock_df.dtypes"
   ]
  },
  {
   "cell_type": "markdown",
   "metadata": {},
   "source": [
    "### Adding y column - price change \n"
   ]
  },
  {
   "cell_type": "code",
   "execution_count": 7,
   "metadata": {},
   "outputs": [
    {
     "name": "stdout",
     "output_type": "stream",
     "text": [
      "        date   open   high    low  close    volume     change\n",
      "0 2011-06-15  20.00  26.00  17.35  17.42  42152400        NaN\n",
      "1 2011-06-16  16.99  16.99  12.99  13.26  15300400 -23.880597\n",
      "2 2011-06-17  13.00  13.60  12.16  13.40   4813900   1.055807\n",
      "3 2011-06-20  13.36  15.39  13.27  14.61   3073000   9.029851\n",
      "4 2011-06-21  15.22  15.35  13.27  13.50   3316100  -7.597536\n"
     ]
    }
   ],
   "source": [
    "def getPrevClose(stock_df, n, i):\n",
    "    row = i-1\n",
    "    if row <0:\n",
    "        return np.nan\n",
    "    return stock_df.loc[row][\"close\"]\n",
    "\n",
    "def getROC(close_px, n, stock_df, i):\n",
    "    prev_close_px = getPrevClose(stock_df, n, i)\n",
    "    roc = ((close_px - prev_close_px)/prev_close_px)*100\n",
    "    return roc\n",
    "\n",
    "l1=[]\n",
    "n = 1\n",
    "\n",
    "\n",
    "for i in range(stock_df.tail(1).index.item()+1):\n",
    "    \n",
    "    close_px=stock_df.loc[i][\"close\"]\n",
    "    roc = getROC(close_px, n, stock_df, i)\n",
    "    \n",
    "    l1.append(roc)\n",
    "stock_df[\"change\"]=l1\n",
    "print(stock_df.head())"
   ]
  },
  {
   "cell_type": "markdown",
   "metadata": {},
   "source": [
    "### Add 3 previous day changes"
   ]
  },
  {
   "cell_type": "code",
   "execution_count": 8,
   "metadata": {},
   "outputs": [],
   "source": [
    "stock_df['minus1_change']=stock_df['change'].shift(1)\n",
    "stock_df['minus2_change']=stock_df['change'].shift(2)\n",
    "stock_df['minus3_change']=stock_df['change'].shift(3)\n",
    "stock_df['plus1_change']=stock_df['change'].shift(-1)"
   ]
  },
  {
   "cell_type": "code",
   "execution_count": 9,
   "metadata": {},
   "outputs": [],
   "source": [
    "stock_df['plus1_open']=stock_df['open'].shift(-1)\n",
    "stock_df['plus1_close']=stock_df['close'].shift(-1)"
   ]
  },
  {
   "cell_type": "code",
   "execution_count": null,
   "metadata": {},
   "outputs": [],
   "source": []
  },
  {
   "cell_type": "code",
   "execution_count": 10,
   "metadata": {},
   "outputs": [
    {
     "data": {
      "text/html": [
       "<div>\n",
       "<style scoped>\n",
       "    .dataframe tbody tr th:only-of-type {\n",
       "        vertical-align: middle;\n",
       "    }\n",
       "\n",
       "    .dataframe tbody tr th {\n",
       "        vertical-align: top;\n",
       "    }\n",
       "\n",
       "    .dataframe thead th {\n",
       "        text-align: right;\n",
       "    }\n",
       "</style>\n",
       "<table border=\"1\" class=\"dataframe\">\n",
       "  <thead>\n",
       "    <tr style=\"text-align: right;\">\n",
       "      <th></th>\n",
       "      <th>date</th>\n",
       "      <th>open</th>\n",
       "      <th>high</th>\n",
       "      <th>low</th>\n",
       "      <th>close</th>\n",
       "      <th>volume</th>\n",
       "      <th>change</th>\n",
       "      <th>minus1_change</th>\n",
       "      <th>minus2_change</th>\n",
       "      <th>minus3_change</th>\n",
       "      <th>plus1_change</th>\n",
       "      <th>plus1_open</th>\n",
       "      <th>plus1_close</th>\n",
       "    </tr>\n",
       "  </thead>\n",
       "  <tbody>\n",
       "    <tr>\n",
       "      <th>0</th>\n",
       "      <td>2011-06-15</td>\n",
       "      <td>20.00</td>\n",
       "      <td>26.00</td>\n",
       "      <td>17.35</td>\n",
       "      <td>17.42</td>\n",
       "      <td>42152400</td>\n",
       "      <td>NaN</td>\n",
       "      <td>NaN</td>\n",
       "      <td>NaN</td>\n",
       "      <td>NaN</td>\n",
       "      <td>-23.880597</td>\n",
       "      <td>16.99</td>\n",
       "      <td>13.26</td>\n",
       "    </tr>\n",
       "    <tr>\n",
       "      <th>1</th>\n",
       "      <td>2011-06-16</td>\n",
       "      <td>16.99</td>\n",
       "      <td>16.99</td>\n",
       "      <td>12.99</td>\n",
       "      <td>13.26</td>\n",
       "      <td>15300400</td>\n",
       "      <td>-23.880597</td>\n",
       "      <td>NaN</td>\n",
       "      <td>NaN</td>\n",
       "      <td>NaN</td>\n",
       "      <td>1.055807</td>\n",
       "      <td>13.00</td>\n",
       "      <td>13.40</td>\n",
       "    </tr>\n",
       "    <tr>\n",
       "      <th>2</th>\n",
       "      <td>2011-06-17</td>\n",
       "      <td>13.00</td>\n",
       "      <td>13.60</td>\n",
       "      <td>12.16</td>\n",
       "      <td>13.40</td>\n",
       "      <td>4813900</td>\n",
       "      <td>1.055807</td>\n",
       "      <td>-23.880597</td>\n",
       "      <td>NaN</td>\n",
       "      <td>NaN</td>\n",
       "      <td>9.029851</td>\n",
       "      <td>13.36</td>\n",
       "      <td>14.61</td>\n",
       "    </tr>\n",
       "    <tr>\n",
       "      <th>3</th>\n",
       "      <td>2011-06-20</td>\n",
       "      <td>13.36</td>\n",
       "      <td>15.39</td>\n",
       "      <td>13.27</td>\n",
       "      <td>14.61</td>\n",
       "      <td>3073000</td>\n",
       "      <td>9.029851</td>\n",
       "      <td>1.055807</td>\n",
       "      <td>-23.880597</td>\n",
       "      <td>NaN</td>\n",
       "      <td>-7.597536</td>\n",
       "      <td>15.22</td>\n",
       "      <td>13.50</td>\n",
       "    </tr>\n",
       "    <tr>\n",
       "      <th>4</th>\n",
       "      <td>2011-06-21</td>\n",
       "      <td>15.22</td>\n",
       "      <td>15.35</td>\n",
       "      <td>13.27</td>\n",
       "      <td>13.50</td>\n",
       "      <td>3316100</td>\n",
       "      <td>-7.597536</td>\n",
       "      <td>9.029851</td>\n",
       "      <td>1.055807</td>\n",
       "      <td>-23.880597</td>\n",
       "      <td>-1.185185</td>\n",
       "      <td>14.07</td>\n",
       "      <td>13.34</td>\n",
       "    </tr>\n",
       "  </tbody>\n",
       "</table>\n",
       "</div>"
      ],
      "text/plain": [
       "        date   open   high    low  close    volume     change  minus1_change  \\\n",
       "0 2011-06-15  20.00  26.00  17.35  17.42  42152400        NaN            NaN   \n",
       "1 2011-06-16  16.99  16.99  12.99  13.26  15300400 -23.880597            NaN   \n",
       "2 2011-06-17  13.00  13.60  12.16  13.40   4813900   1.055807     -23.880597   \n",
       "3 2011-06-20  13.36  15.39  13.27  14.61   3073000   9.029851       1.055807   \n",
       "4 2011-06-21  15.22  15.35  13.27  13.50   3316100  -7.597536       9.029851   \n",
       "\n",
       "   minus2_change  minus3_change  plus1_change  plus1_open  plus1_close  \n",
       "0            NaN            NaN    -23.880597       16.99        13.26  \n",
       "1            NaN            NaN      1.055807       13.00        13.40  \n",
       "2            NaN            NaN      9.029851       13.36        14.61  \n",
       "3     -23.880597            NaN     -7.597536       15.22        13.50  \n",
       "4       1.055807     -23.880597     -1.185185       14.07        13.34  "
      ]
     },
     "execution_count": 10,
     "metadata": {},
     "output_type": "execute_result"
    }
   ],
   "source": [
    "stock_df.head()"
   ]
  },
  {
   "cell_type": "markdown",
   "metadata": {},
   "source": [
    "### (new) Add necessary tech indicators"
   ]
  },
  {
   "cell_type": "code",
   "execution_count": 11,
   "metadata": {},
   "outputs": [],
   "source": [
    "def removeZero(df, col_name):\n",
    "    ini_len = len(df)\n",
    "    \n",
    "    #drop na\n",
    "    df = df.dropna()\n",
    "    \n",
    "    #drop zero\n",
    "    index_with_zero = df[df[col_name]==0].index\n",
    "    num_zero = len(index_with_zero)\n",
    "    df = df.drop(index=list(index_with_zero))\n",
    "    \n",
    "    total_drop = ini_len - len(df)\n",
    "    \n",
    "    print(\"for col \" + col_name,  \"num of zero is \", num_zero, \"total dropped is \", total_drop)\n",
    "    \n",
    "    df = df.reset_index(drop=True)\n",
    "    \n",
    "    return df"
   ]
  },
  {
   "cell_type": "code",
   "execution_count": 12,
   "metadata": {},
   "outputs": [],
   "source": [
    "high = stock_df.high\n",
    "low = stock_df.low\n",
    "close = stock_df.close\n",
    "volume = stock_df.volume"
   ]
  },
  {
   "cell_type": "code",
   "execution_count": 13,
   "metadata": {},
   "outputs": [],
   "source": [
    "#volatility indicator\n",
    "n=14\n",
    "stock_df['atr']=ta.volatility.average_true_range(high, low, close, n, fillna=False)"
   ]
  },
  {
   "cell_type": "code",
   "execution_count": 14,
   "metadata": {},
   "outputs": [],
   "source": [
    "#trend indicator\n",
    "stock_df['macd']=ta.trend.macd(close, n_fast=12, n_slow=26, fillna=False)"
   ]
  },
  {
   "cell_type": "code",
   "execution_count": 15,
   "metadata": {},
   "outputs": [
    {
     "name": "stdout",
     "output_type": "stream",
     "text": [
      "0\n"
     ]
    }
   ],
   "source": [
    "#volume indicator\n",
    "stock_df['accdist']=ta.volume.acc_dist_index(high, low, close, volume, fillna=False)\n",
    "print(sum(stock_df.accdist==0) + stock_df.accdist.isna().sum())"
   ]
  },
  {
   "cell_type": "code",
   "execution_count": 16,
   "metadata": {},
   "outputs": [
    {
     "name": "stdout",
     "output_type": "stream",
     "text": [
      "        date   open   high    low  close    volume     change  minus1_change  \\\n",
      "0 2011-06-15  20.00  26.00  17.35  17.42  42152400        NaN            NaN   \n",
      "1 2011-06-16  16.99  16.99  12.99  13.26  15300400 -23.880597            NaN   \n",
      "2 2011-06-17  13.00  13.60  12.16  13.40   4813900   1.055807     -23.880597   \n",
      "3 2011-06-20  13.36  15.39  13.27  14.61   3073000   9.029851       1.055807   \n",
      "4 2011-06-21  15.22  15.35  13.27  13.50   3316100  -7.597536       9.029851   \n",
      "\n",
      "   minus2_change  minus3_change  plus1_change  plus1_open  plus1_close  atr  \\\n",
      "0            NaN            NaN    -23.880597       16.99        13.26  0.0   \n",
      "1            NaN            NaN      1.055807       13.00        13.40  0.0   \n",
      "2            NaN            NaN      9.029851       13.36        14.61  0.0   \n",
      "3     -23.880597            NaN     -7.597536       15.22        13.50  0.0   \n",
      "4       1.055807     -23.880597     -1.185185       14.07        13.34  0.0   \n",
      "\n",
      "   macd       accdist        roc  \n",
      "0   NaN -4.147016e+07   0.000000  \n",
      "1   NaN -5.470501e+07 -23.880597  \n",
      "2   NaN -5.122831e+07 -23.076923  \n",
      "3   NaN -5.041657e+07 -16.130884  \n",
      "4   NaN -5.299930e+07 -22.502870  \n"
     ]
    }
   ],
   "source": [
    "#momentum indicator\n",
    "\n",
    "#these functions chooses a period of n days\n",
    "#eg. if n=10, get dif of day1 and day10, not day0 and day10\n",
    "\n",
    "#these functions chooses a period of n days\n",
    "#eg. if n=10, get dif of day1 and day10, not day0 and day10\n",
    "\n",
    "def getPrevClose(stock_df, n, i):\n",
    "    row = i+1 -n\n",
    "    return stock_df.loc[row][\"close\"]\n",
    "\n",
    "def getROC(close_px, n, stock_df, i):\n",
    "    prev_close_px = getPrevClose(stock_df, n, i)\n",
    "    roc = ((close_px - prev_close_px)/prev_close_px)*100\n",
    "    return roc\n",
    "\n",
    "#What to do for the first n-1 days hmm\n",
    "#I think for now since we looking at short term, just take the earliest possible dates\n",
    "\n",
    "#Add ROC\n",
    "n = 12\n",
    "stock_df[\"roc\"]=np.nan\n",
    "\n",
    "for i in range(stock_df.tail(1).index.item()+1):\n",
    "    \n",
    "    close_px=stock_df.loc[i][\"close\"]\n",
    "    \n",
    "    if i<n-1:#for the first n-1 entries, get ROC wrt 1st entry\n",
    "        roc = getROC(close_px, i+1, stock_df, i)\n",
    "    \n",
    "    else:#for all other entries\n",
    "        roc = getROC(close_px, n, stock_df, i)\n",
    "        \n",
    "    stock_df.loc[i, \"roc\"] = roc\n",
    "print(stock_df.head())"
   ]
  },
  {
   "cell_type": "markdown",
   "metadata": {},
   "source": [
    "### Cleaning"
   ]
  },
  {
   "cell_type": "code",
   "execution_count": 18,
   "metadata": {},
   "outputs": [
    {
     "data": {
      "text/html": [
       "<div>\n",
       "<style scoped>\n",
       "    .dataframe tbody tr th:only-of-type {\n",
       "        vertical-align: middle;\n",
       "    }\n",
       "\n",
       "    .dataframe tbody tr th {\n",
       "        vertical-align: top;\n",
       "    }\n",
       "\n",
       "    .dataframe thead th {\n",
       "        text-align: right;\n",
       "    }\n",
       "</style>\n",
       "<table border=\"1\" class=\"dataframe\">\n",
       "  <thead>\n",
       "    <tr style=\"text-align: right;\">\n",
       "      <th></th>\n",
       "      <th>date</th>\n",
       "      <th>open</th>\n",
       "      <th>high</th>\n",
       "      <th>low</th>\n",
       "      <th>close</th>\n",
       "      <th>volume</th>\n",
       "      <th>change</th>\n",
       "      <th>minus1_change</th>\n",
       "      <th>minus2_change</th>\n",
       "      <th>minus3_change</th>\n",
       "      <th>plus1_change</th>\n",
       "      <th>plus1_open</th>\n",
       "      <th>plus1_close</th>\n",
       "      <th>atr</th>\n",
       "      <th>macd</th>\n",
       "      <th>accdist</th>\n",
       "      <th>roc</th>\n",
       "    </tr>\n",
       "  </thead>\n",
       "  <tbody>\n",
       "    <tr>\n",
       "      <th>0</th>\n",
       "      <td>2011-06-15</td>\n",
       "      <td>20.00</td>\n",
       "      <td>26.00</td>\n",
       "      <td>17.35</td>\n",
       "      <td>17.42</td>\n",
       "      <td>42152400</td>\n",
       "      <td>NaN</td>\n",
       "      <td>NaN</td>\n",
       "      <td>NaN</td>\n",
       "      <td>NaN</td>\n",
       "      <td>-23.880597</td>\n",
       "      <td>16.99</td>\n",
       "      <td>13.26</td>\n",
       "      <td>0.0</td>\n",
       "      <td>NaN</td>\n",
       "      <td>-4.147016e+07</td>\n",
       "      <td>0.000000</td>\n",
       "    </tr>\n",
       "    <tr>\n",
       "      <th>1</th>\n",
       "      <td>2011-06-16</td>\n",
       "      <td>16.99</td>\n",
       "      <td>16.99</td>\n",
       "      <td>12.99</td>\n",
       "      <td>13.26</td>\n",
       "      <td>15300400</td>\n",
       "      <td>-23.880597</td>\n",
       "      <td>NaN</td>\n",
       "      <td>NaN</td>\n",
       "      <td>NaN</td>\n",
       "      <td>1.055807</td>\n",
       "      <td>13.00</td>\n",
       "      <td>13.40</td>\n",
       "      <td>0.0</td>\n",
       "      <td>NaN</td>\n",
       "      <td>-5.470501e+07</td>\n",
       "      <td>-23.880597</td>\n",
       "    </tr>\n",
       "    <tr>\n",
       "      <th>2</th>\n",
       "      <td>2011-06-17</td>\n",
       "      <td>13.00</td>\n",
       "      <td>13.60</td>\n",
       "      <td>12.16</td>\n",
       "      <td>13.40</td>\n",
       "      <td>4813900</td>\n",
       "      <td>1.055807</td>\n",
       "      <td>-23.880597</td>\n",
       "      <td>NaN</td>\n",
       "      <td>NaN</td>\n",
       "      <td>9.029851</td>\n",
       "      <td>13.36</td>\n",
       "      <td>14.61</td>\n",
       "      <td>0.0</td>\n",
       "      <td>NaN</td>\n",
       "      <td>-5.122831e+07</td>\n",
       "      <td>-23.076923</td>\n",
       "    </tr>\n",
       "    <tr>\n",
       "      <th>3</th>\n",
       "      <td>2011-06-20</td>\n",
       "      <td>13.36</td>\n",
       "      <td>15.39</td>\n",
       "      <td>13.27</td>\n",
       "      <td>14.61</td>\n",
       "      <td>3073000</td>\n",
       "      <td>9.029851</td>\n",
       "      <td>1.055807</td>\n",
       "      <td>-23.880597</td>\n",
       "      <td>NaN</td>\n",
       "      <td>-7.597536</td>\n",
       "      <td>15.22</td>\n",
       "      <td>13.50</td>\n",
       "      <td>0.0</td>\n",
       "      <td>NaN</td>\n",
       "      <td>-5.041657e+07</td>\n",
       "      <td>-16.130884</td>\n",
       "    </tr>\n",
       "    <tr>\n",
       "      <th>4</th>\n",
       "      <td>2011-06-21</td>\n",
       "      <td>15.22</td>\n",
       "      <td>15.35</td>\n",
       "      <td>13.27</td>\n",
       "      <td>13.50</td>\n",
       "      <td>3316100</td>\n",
       "      <td>-7.597536</td>\n",
       "      <td>9.029851</td>\n",
       "      <td>1.055807</td>\n",
       "      <td>-23.880597</td>\n",
       "      <td>-1.185185</td>\n",
       "      <td>14.07</td>\n",
       "      <td>13.34</td>\n",
       "      <td>0.0</td>\n",
       "      <td>NaN</td>\n",
       "      <td>-5.299930e+07</td>\n",
       "      <td>-22.502870</td>\n",
       "    </tr>\n",
       "  </tbody>\n",
       "</table>\n",
       "</div>"
      ],
      "text/plain": [
       "        date   open   high    low  close    volume     change  minus1_change  \\\n",
       "0 2011-06-15  20.00  26.00  17.35  17.42  42152400        NaN            NaN   \n",
       "1 2011-06-16  16.99  16.99  12.99  13.26  15300400 -23.880597            NaN   \n",
       "2 2011-06-17  13.00  13.60  12.16  13.40   4813900   1.055807     -23.880597   \n",
       "3 2011-06-20  13.36  15.39  13.27  14.61   3073000   9.029851       1.055807   \n",
       "4 2011-06-21  15.22  15.35  13.27  13.50   3316100  -7.597536       9.029851   \n",
       "\n",
       "   minus2_change  minus3_change  plus1_change  plus1_open  plus1_close  atr  \\\n",
       "0            NaN            NaN    -23.880597       16.99        13.26  0.0   \n",
       "1            NaN            NaN      1.055807       13.00        13.40  0.0   \n",
       "2            NaN            NaN      9.029851       13.36        14.61  0.0   \n",
       "3     -23.880597            NaN     -7.597536       15.22        13.50  0.0   \n",
       "4       1.055807     -23.880597     -1.185185       14.07        13.34  0.0   \n",
       "\n",
       "   macd       accdist        roc  \n",
       "0   NaN -4.147016e+07   0.000000  \n",
       "1   NaN -5.470501e+07 -23.880597  \n",
       "2   NaN -5.122831e+07 -23.076923  \n",
       "3   NaN -5.041657e+07 -16.130884  \n",
       "4   NaN -5.299930e+07 -22.502870  "
      ]
     },
     "execution_count": 18,
     "metadata": {},
     "output_type": "execute_result"
    }
   ],
   "source": [
    "stock_df.head()"
   ]
  },
  {
   "cell_type": "code",
   "execution_count": 19,
   "metadata": {},
   "outputs": [
    {
     "name": "stdout",
     "output_type": "stream",
     "text": [
      "for col atr num of zero is  0 total dropped is  26\n",
      "for col macd num of zero is  0 total dropped is  0\n",
      "for col accdist num of zero is  0 total dropped is  0\n",
      "for col roc num of zero is  6 total dropped is  6\n",
      "        date   open   high    low  close   volume    change  minus1_change  \\\n",
      "0 2011-07-21  18.15  19.06  17.96  18.76   892900  5.393258       3.308183   \n",
      "1 2011-07-22  18.60  18.60  17.85  18.03   554500 -3.891258       5.393258   \n",
      "2 2011-07-25  18.75  18.75  17.50  17.81  1069500 -1.220189      -3.891258   \n",
      "3 2011-07-26  18.00  18.13  17.20  17.28   834200 -2.975856      -1.220189   \n",
      "4 2011-07-27  17.20  17.25  16.50  16.62   532800 -3.819444      -2.975856   \n",
      "\n",
      "   minus2_change  minus3_change  plus1_change  plus1_open  plus1_close  \\\n",
      "0       1.651917      -4.668166     -3.891258       18.60        18.03   \n",
      "1       3.308183       1.651917     -1.220189       18.75        17.81   \n",
      "2       5.393258       3.308183     -2.975856       18.00        17.28   \n",
      "3      -3.891258       5.393258     -3.819444       17.20        16.62   \n",
      "4      -1.220189      -3.891258     -2.647413       16.58        16.18   \n",
      "\n",
      "        atr      macd       accdist        roc  \n",
      "0  1.622551  0.304654 -5.036333e+07   2.123027  \n",
      "1  1.571655  0.291643 -5.065167e+07  -5.005269  \n",
      "2  1.548679  0.260575 -5.119069e+07  -7.576544  \n",
      "3  1.504488  0.190986 -5.188138e+07 -10.280374  \n",
      "4  1.452739  0.081638 -5.224368e+07  -7.922438  \n"
     ]
    }
   ],
   "source": [
    "new_features = ['atr','macd','accdist','roc']\n",
    "for col in new_features:\n",
    "    stock_df = removeZero(stock_df, col)\n",
    "    \n",
    "stock_df = stock_df.dropna()\n",
    "\n",
    "print(stock_df.head())"
   ]
  },
  {
   "cell_type": "markdown",
   "metadata": {},
   "source": [
    "### Saving"
   ]
  },
  {
   "cell_type": "code",
   "execution_count": 21,
   "metadata": {},
   "outputs": [
    {
     "name": "stdout",
     "output_type": "stream",
     "text": [
      "        date   open   high    low  close   volume    change  minus1_change  \\\n",
      "0 2011-07-21  18.15  19.06  17.96  18.76   892900  5.393258       3.308183   \n",
      "1 2011-07-22  18.60  18.60  17.85  18.03   554500 -3.891258       5.393258   \n",
      "2 2011-07-25  18.75  18.75  17.50  17.81  1069500 -1.220189      -3.891258   \n",
      "3 2011-07-26  18.00  18.13  17.20  17.28   834200 -2.975856      -1.220189   \n",
      "4 2011-07-27  17.20  17.25  16.50  16.62   532800 -3.819444      -2.975856   \n",
      "\n",
      "   minus2_change  minus3_change  plus1_change  plus1_open  plus1_close  \\\n",
      "0       1.651917      -4.668166     -3.891258       18.60        18.03   \n",
      "1       3.308183       1.651917     -1.220189       18.75        17.81   \n",
      "2       5.393258       3.308183     -2.975856       18.00        17.28   \n",
      "3      -3.891258       5.393258     -3.819444       17.20        16.62   \n",
      "4      -1.220189      -3.891258     -2.647413       16.58        16.18   \n",
      "\n",
      "        atr      macd       accdist        roc  \n",
      "0  1.622551  0.304654 -5.036333e+07   2.123027  \n",
      "1  1.571655  0.291643 -5.065167e+07  -5.005269  \n",
      "2  1.548679  0.260575 -5.119069e+07  -7.576544  \n",
      "3  1.504488  0.190986 -5.188138e+07 -10.280374  \n",
      "4  1.452739  0.081638 -5.224368e+07  -7.922438  \n",
      "date             0\n",
      "open             0\n",
      "high             0\n",
      "low              0\n",
      "close            0\n",
      "volume           0\n",
      "change           0\n",
      "minus1_change    0\n",
      "minus2_change    0\n",
      "minus3_change    0\n",
      "plus1_change     0\n",
      "plus1_open       0\n",
      "plus1_close      0\n",
      "atr              0\n",
      "macd             0\n",
      "accdist          0\n",
      "roc              0\n",
      "dtype: int64\n"
     ]
    }
   ],
   "source": [
    "print(stock_df.head())\n",
    "print(stock_df.isna().sum())"
   ]
  },
  {
   "cell_type": "code",
   "execution_count": 22,
   "metadata": {},
   "outputs": [],
   "source": [
    "file_name = \"stock_df_full.csv\"\n",
    "path = \"C:/Users/limxu/OneDrive/Documents/UCB/SAAS/Project/data/\" + file_name\n",
    "stock_df.to_csv(path)"
   ]
  },
  {
   "cell_type": "code",
   "execution_count": null,
   "metadata": {},
   "outputs": [],
   "source": []
  }
 ],
 "metadata": {
  "kernelspec": {
   "display_name": "Python 3",
   "language": "python",
   "name": "python3"
  },
  "language_info": {
   "codemirror_mode": {
    "name": "ipython",
    "version": 3
   },
   "file_extension": ".py",
   "mimetype": "text/x-python",
   "name": "python",
   "nbconvert_exporter": "python",
   "pygments_lexer": "ipython3",
   "version": "3.6.5"
  }
 },
 "nbformat": 4,
 "nbformat_minor": 2
}
